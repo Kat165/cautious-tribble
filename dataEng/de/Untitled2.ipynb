{
 "cells": [
  {
   "cell_type": "markdown",
   "metadata": {
    "id": "P-6OlsMiistI"
   },
   "source": [
    "Needed imports and downloads:"
   ]
  },
  {
   "cell_type": "code",
   "execution_count": 1,
   "metadata": {
    "id": "IPPy5hWbDmnL"
   },
   "outputs": [],
   "source": [
    "import pandas as pd\n",
    "from sklearn.preprocessing import LabelEncoder\n",
    "from sklearn.preprocessing import OneHotEncoder\n",
    "import numpy as np\n",
    "import re"
   ]
  },
  {
   "cell_type": "code",
   "execution_count": 2,
   "metadata": {
    "colab": {
     "base_uri": "https://localhost:8080/"
    },
    "id": "KPET9m55iOaJ",
    "outputId": "6c14d710-3569-42bb-fbdb-033f956b6e25"
   },
   "outputs": [],
   "source": [
    "#>>> pip install pyrosm "
   ]
  },
  {
   "cell_type": "code",
   "execution_count": 3,
   "metadata": {
    "colab": {
     "base_uri": "https://localhost:8080/"
    },
    "id": "nmBmdU1DlfLh",
    "outputId": "fc68e951-ca66-44de-f931-8d8e7397273d"
   },
   "outputs": [],
   "source": [
    "#>>> pip install osmpythontools"
   ]
  },
  {
   "cell_type": "code",
   "execution_count": 4,
   "metadata": {
    "colab": {
     "base_uri": "https://localhost:8080/"
    },
    "id": "9G-vdONP-xeK",
    "outputId": "961b1bfd-4bf8-4f85-c142-9f3158a32673"
   },
   "outputs": [],
   "source": [
    "#>>> pip install ipyleaflet"
   ]
  },
  {
   "cell_type": "code",
   "execution_count": 5,
   "metadata": {
    "colab": {
     "base_uri": "https://localhost:8080/",
     "height": 1000
    },
    "id": "JuewI-zt-4B7",
    "outputId": "7ed98500-d4dd-4bbe-aa3e-af2076b9a0a6"
   },
   "outputs": [],
   "source": [
    "#>>> pip install leafmap"
   ]
  },
  {
   "cell_type": "code",
   "execution_count": 9,
   "metadata": {
    "colab": {
     "base_uri": "https://localhost:8080/",
     "height": 72
    },
    "id": "pHg--3gIhar7",
    "outputId": "8a6324b6-126a-4811-cbfc-577df33839b6"
   },
   "outputs": [
    {
     "ename": "ModuleNotFoundError",
     "evalue": "No module named 'geopandas'",
     "output_type": "error",
     "traceback": [
      "\u001b[1;31m---------------------------------------------------------------------------\u001b[0m",
      "\u001b[1;31mModuleNotFoundError\u001b[0m                       Traceback (most recent call last)",
      "Input \u001b[1;32mIn [9]\u001b[0m, in \u001b[0;36m<cell line: 5>\u001b[1;34m()\u001b[0m\n\u001b[0;32m      3\u001b[0m \u001b[38;5;28;01mfrom\u001b[39;00m \u001b[38;5;21;01mshapely\u001b[39;00m\u001b[38;5;21;01m.\u001b[39;00m\u001b[38;5;21;01mgeometry\u001b[39;00m\u001b[38;5;21;01m.\u001b[39;00m\u001b[38;5;21;01mpolygon\u001b[39;00m \u001b[38;5;28;01mimport\u001b[39;00m Polygon\n\u001b[0;32m      4\u001b[0m \u001b[38;5;28;01mimport\u001b[39;00m \u001b[38;5;21;01mshapely\u001b[39;00m\u001b[38;5;21;01m.\u001b[39;00m\u001b[38;5;21;01mwkt\u001b[39;00m\n\u001b[1;32m----> 5\u001b[0m \u001b[38;5;28;01mimport\u001b[39;00m \u001b[38;5;21;01mgeopandas\u001b[39;00m \u001b[38;5;28;01mas\u001b[39;00m \u001b[38;5;21;01mgpd\u001b[39;00m\n\u001b[0;32m      6\u001b[0m \u001b[38;5;28;01mimport\u001b[39;00m \u001b[38;5;21;01mmatplotlib\u001b[39;00m\u001b[38;5;21;01m.\u001b[39;00m\u001b[38;5;21;01mpyplot\u001b[39;00m \u001b[38;5;28;01mas\u001b[39;00m \u001b[38;5;21;01mplt\u001b[39;00m\n\u001b[0;32m      7\u001b[0m \u001b[38;5;28;01mfrom\u001b[39;00m \u001b[38;5;21;01mpyrosm\u001b[39;00m \u001b[38;5;28;01mimport\u001b[39;00m OSM, get_data\n",
      "\u001b[1;31mModuleNotFoundError\u001b[0m: No module named 'geopandas'"
     ]
    }
   ],
   "source": [
    "from OSMPythonTools.nominatim import Nominatim\n",
    "from shapely.geometry import Point\n",
    "from shapely.geometry.polygon import Polygon\n",
    "import shapely.wkt\n",
    "import geopandas as gpd\n",
    "import matplotlib.pyplot as plt\n",
    "from pyrosm import OSM, get_data\n",
    "from ipyleaflet import Map, Marker, basemaps, Polyline, basemap_to_tiles, GeoJSON\n",
    "import leafmap\n",
    "from pyproj import Proj, transform"
   ]
  },
  {
   "cell_type": "markdown",
   "metadata": {
    "id": "Lz6GuYWsjERr"
   },
   "source": [
    "Reading Noise_Reports.csv"
   ]
  },
  {
   "cell_type": "code",
   "execution_count": null,
   "metadata": {
    "id": "CzcBstw6ge7O"
   },
   "outputs": [],
   "source": [
    "df = pd.read_csv('data/Noise_Reports.csv')"
   ]
  },
  {
   "cell_type": "markdown",
   "metadata": {
    "id": "P46RZXW1jLiE"
   },
   "source": [
    "Deleting columns we won't need"
   ]
  },
  {
   "cell_type": "code",
   "execution_count": null,
   "metadata": {
    "id": "jAL32FcPglqw"
   },
   "outputs": [],
   "source": [
    "del df['Media URL'] #Almost all are nulls, rest are just photos\n",
    "del df['Status Notes']\n",
    "del df['Status']\n",
    "del df['Updated']\n",
    "del df['Responsible Agency']\n",
    "del df['Source']"
   ]
  },
  {
   "cell_type": "markdown",
   "metadata": {
    "id": "pDv_Tpe0jckt"
   },
   "source": [
    "Deleting points (0.0, 0.0) and null points"
   ]
  },
  {
   "cell_type": "code",
   "execution_count": null,
   "metadata": {
    "id": "-cGanWSRguTK"
   },
   "outputs": [],
   "source": [
    "df = df[df.Point != \"(0.0, 0.0)\"]\n",
    "df.dropna(subset = [\"Point\"], inplace=True)"
   ]
  },
  {
   "cell_type": "markdown",
   "metadata": {
    "id": "CdJgUkp6jnq5"
   },
   "source": [
    "Renaming columns with whitespaces in names"
   ]
  },
  {
   "cell_type": "code",
   "execution_count": null,
   "metadata": {
    "id": "QABEWO3ag1wN"
   },
   "outputs": [],
   "source": [
    "df.rename(columns = {\n",
    "    'Request Type' : 'Request_Type', \n",
    "    'Request Details':'Request_Details',\n",
    "    'Supervisor District' : 'Supervisor_District'\n",
    "    }, inplace = True)"
   ]
  },
  {
   "cell_type": "markdown",
   "metadata": {
    "id": "IuuN2Nb9j5x1"
   },
   "source": [
    "Changing strings to numbers in some columns using OneHotEncoder and LabelEncoder"
   ]
  },
  {
   "cell_type": "code",
   "execution_count": null,
   "metadata": {
    "id": "ZZN3ljj5g95r"
   },
   "outputs": [],
   "source": [
    "opened_encoder = OneHotEncoder()\n",
    "opened_reshaped = np.array(df['Category']).reshape(-1, 1)\n",
    "opened_values = opened_encoder.fit_transform(opened_reshaped)"
   ]
  },
  {
   "cell_type": "code",
   "execution_count": null,
   "metadata": {
    "colab": {
     "base_uri": "https://localhost:8080/",
     "height": 337
    },
    "id": "o-frLie4hCb0",
    "outputId": "d00f1e7c-cd29-4856-de43-6f311c9ded18"
   },
   "outputs": [],
   "source": [
    "le = LabelEncoder()\n",
    "df['Category'] = le.fit_transform(df['Category'])\n",
    "le2 = LabelEncoder()\n",
    "df['Request_Type'] = le2.fit_transform(df['Request_Type'])\n",
    "le3 = LabelEncoder()\n",
    "df['Request_Details'] = le3.fit_transform(df['Request_Details'])\n",
    "le4 = LabelEncoder()\n",
    "df['Neighborhood'] = le4.fit_transform(df['Neighborhood'])\n",
    "df.head()"
   ]
  },
  {
   "cell_type": "markdown",
   "metadata": {
    "id": "atRZFgrlkJou"
   },
   "source": [
    "Changing column 'Point' (object) to tuple(float,float) and re-indexing columns"
   ]
  },
  {
   "cell_type": "code",
   "execution_count": null,
   "metadata": {
    "id": "X83Q0wFUhTX2"
   },
   "outputs": [],
   "source": [
    "points = []\n",
    "for i in df.Point:\n",
    "  points.append((re.findall(r'[+-]?[0-9]+\\.[0-9]+', i)))\n",
    "points = [(float(i), float(j)) for i,j in points] #object to tuple(float,float)\n",
    "df['Point'] = points\n",
    "df.reset_index(inplace=True) #re-indexing columns"
   ]
  },
  {
   "cell_type": "markdown",
   "metadata": {
    "id": "QIHCFFSXk4_l"
   },
   "source": [
    "Checking if poinst are in San Francisco and deleting those, who aren't"
   ]
  },
  {
   "cell_type": "code",
   "execution_count": null,
   "metadata": {
    "id": "ZaVg3RVBhlBa"
   },
   "outputs": [],
   "source": [
    "nominatim = Nominatim()\n",
    "san_fran = nominatim.query(\"San Francisco, United States\", wkt=True)\n",
    "polygon = shapely.wkt.loads(san_fran.wkt())\n",
    "for i, point in enumerate(df.Point):\n",
    "  point = Point(point[1], point[0])\n",
    "  if not polygon.contains(point):\n",
    "    df.drop(axis=0, index=i, inplace=True) #deleting points outside San Francisco\n",
    "df.reset_index(inplace=True) #re-indexing columns"
   ]
  },
  {
   "cell_type": "markdown",
   "metadata": {
    "id": "yGl36ZTPlPxE"
   },
   "source": [
    "Matching points to buildings - nie odpalać na razie"
   ]
  },
  {
   "cell_type": "code",
   "execution_count": null,
   "metadata": {
    "id": "6stNancthrwP"
   },
   "outputs": [],
   "source": [
    "#buildings = []\n",
    "#for i in df.itertuples():\n",
    "#  print('\\n', i.Index, i.Address)\n",
    "#  building = nominatim.query(i.Address, wkt=True)\n",
    "#  print(building.displayName())\n",
    "#  if building.wkt():\n",
    "#    building_polygon = shapely.wkt.loads(building.wkt())\n",
    "#    point = Point(i.Point[1], i.Point[0])\n",
    "#    print(building_polygon, point)\n",
    "#    if building_polygon.contains(point):\n",
    "#      print(\"correct\")\n",
    "#      continue\n",
    "#    else:\n",
    "#      print(\"not in\")\n",
    "#  else:\n",
    "#    print(\"incorrect address/no geometry\")\n",
    "#  new_building = nominatim.query(i.Point[0], i.Point[1], reverse=True)\n",
    "#  if new_building.displayName() == building.displayName():\n",
    "#    print(\"correctly assigned\")\n",
    "#    continue\n",
    "#  buildings.append(new_building.displayName())\n",
    "#  #print(new_building.displayName())"
   ]
  },
  {
   "cell_type": "code",
   "execution_count": null,
   "metadata": {
    "id": "jQy8ndTIp0p3"
   },
   "outputs": [],
   "source": [
    "Latitude =[]\n",
    "Longitude = []\n",
    "for i in range(len(df.Point)):\n",
    "      Latitude.append(df.Point[i][0])\n",
    "      Longitude.append(df.Point[i][1])"
   ]
  },
  {
   "cell_type": "code",
   "execution_count": null,
   "metadata": {
    "id": "hQSPIh3uqvl9"
   },
   "outputs": [],
   "source": [
    "df[\"Latitude\"] = Latitude\n",
    "df[\"Longitude\"] = Longitude"
   ]
  },
  {
   "cell_type": "code",
   "execution_count": null,
   "metadata": {
    "colab": {
     "base_uri": "https://localhost:8080/",
     "height": 1000
    },
    "id": "UZywy88Dvz6E",
    "outputId": "0cbed518-9862-445a-d287-f004e9cba0c9"
   },
   "outputs": [],
   "source": [
    "df"
   ]
  },
  {
   "cell_type": "code",
   "execution_count": null,
   "metadata": {
    "id": "VvC6g2QGtwbi"
   },
   "outputs": [],
   "source": [
    "gdf = gpd.GeoDataFrame(df, geometry=gpd.points_from_xy(df.Longitude, df.Latitude), crs='epsg:4326')"
   ]
  },
  {
   "cell_type": "code",
   "execution_count": null,
   "metadata": {
    "colab": {
     "base_uri": "https://localhost:8080/",
     "height": 251
    },
    "id": "0hCBIQ_Vw9EX",
    "outputId": "33c2e5a0-9846-4798-d23a-e36976ac41f4"
   },
   "outputs": [],
   "source": [
    "world = gpd.read_file(gpd.datasets.get_path('naturalearth_lowres'))\n",
    "\n",
    "ax = world[world.continent == 'North America'].plot(\n",
    "    color='white', edgecolor='black')\n",
    "\n",
    "gdf.plot(ax=ax, color='red')\n",
    "\n",
    "plt.show()"
   ]
  },
  {
   "cell_type": "code",
   "execution_count": null,
   "metadata": {
    "id": "zVX6Cy0iwk8T"
   },
   "outputs": [],
   "source": [
    "fp = get_data(\"San Francisco\", directory='data')\n",
    "osm = OSM('data/SanFrancisco.osm.pbf')"
   ]
  },
  {
   "cell_type": "code",
   "execution_count": null,
   "metadata": {
    "id": "c9W9U1Xzzl04"
   },
   "outputs": [],
   "source": [
    "gdf_buildings = osm.get_buildings()"
   ]
  },
  {
   "cell_type": "code",
   "execution_count": null,
   "metadata": {
    "id": "CFcReaJ_0Ybi"
   },
   "outputs": [],
   "source": [
    "gdf_building = gdf_buildings[['id', 'geometry']]"
   ]
  },
  {
   "cell_type": "code",
   "execution_count": null,
   "metadata": {
    "colab": {
     "base_uri": "https://localhost:8080/",
     "height": 717
    },
    "id": "P_FobAI71pVW",
    "outputId": "7788c9d9-e756-45ef-cfd2-d5b0e8cbce74"
   },
   "outputs": [],
   "source": [
    "#gdf_building.plot(figsize=(16, 12))"
   ]
  },
  {
   "cell_type": "code",
   "execution_count": null,
   "metadata": {
    "id": "_mj-UUN0VJw-"
   },
   "outputs": [],
   "source": [
    "gdf = gdf.to_crs('epsg:7131')"
   ]
  },
  {
   "cell_type": "code",
   "execution_count": null,
   "metadata": {
    "id": "wWiEm7U-Y3f-"
   },
   "outputs": [],
   "source": [
    "gdf['buffer_geom'] = gdf.geometry.buffer(1000)"
   ]
  },
  {
   "cell_type": "code",
   "execution_count": null,
   "metadata": {
    "id": "dN3oEjglHYpZ"
   },
   "outputs": [],
   "source": [
    "gdf_building = gdf_building.to_crs('epsg:7131')"
   ]
  },
  {
   "cell_type": "code",
   "execution_count": null,
   "metadata": {
    "colab": {
     "base_uri": "https://localhost:8080/",
     "height": 424
    },
    "id": "Eyahoa44cTJP",
    "outputId": "74693a65-8d9a-40f0-9300-2f3ce95ee6ab"
   },
   "outputs": [],
   "source": [
    "gdf_building"
   ]
  },
  {
   "cell_type": "code",
   "execution_count": null,
   "metadata": {
    "colab": {
     "base_uri": "https://localhost:8080/",
     "height": 1000
    },
    "id": "dKsNkPSxYAQl",
    "outputId": "d0061ea0-7b02-4483-a498-6578eb319b88"
   },
   "outputs": [],
   "source": [
    "gdf.head(10)"
   ]
  },
  {
   "cell_type": "code",
   "execution_count": null,
   "metadata": {
    "id": "cLJvV0t-DUGz"
   },
   "outputs": [],
   "source": [
    "df_joins = gpd.sjoin(\n",
    "    gdf_building[['id','geometry']],\n",
    "    gdf.set_geometry('geometry'))"
   ]
  },
  {
   "cell_type": "code",
   "execution_count": null,
   "metadata": {
    "colab": {
     "base_uri": "https://localhost:8080/",
     "height": 1000
    },
    "id": "dm5MLbhPXz_7",
    "outputId": "422f8099-a77f-4a34-8e12-fe847ee5fb35"
   },
   "outputs": [],
   "source": [
    "df_joins"
   ]
  },
  {
   "cell_type": "code",
   "execution_count": null,
   "metadata": {
    "colab": {
     "base_uri": "https://localhost:8080/",
     "height": 235
    },
    "id": "Q8BkHQ2GDjXQ",
    "outputId": "537243e5-ec67-487a-a49a-97d1448413cc"
   },
   "outputs": [],
   "source": [
    "map = Map(\n",
    "    basemap=basemap_to_tiles(basemaps.OpenStreetMap.Mapnik),\n",
    "    center=(37.758537, -122.447664),\n",
    "    zoom=12,\n",
    "    )\n",
    "\n",
    "for row in df_joins.head(1000).iterrows():\n",
    "\n",
    "    marker = Marker()#do zmiany\n",
    "    marker.location = row['geometry']\n",
    "    \n",
    "    map.add_layer(marker)\n",
    "\n",
    "map.layout.width = '80%'\n",
    "map.layout.height = '1000px'\n",
    "map"
   ]
  }
 ],
 "metadata": {
  "colab": {
   "collapsed_sections": [],
   "name": "Untitled2.ipynb",
   "provenance": []
  },
  "kernelspec": {
   "display_name": "Python 3 (ipykernel)",
   "language": "python",
   "name": "python3"
  },
  "language_info": {
   "codemirror_mode": {
    "name": "ipython",
    "version": 3
   },
   "file_extension": ".py",
   "mimetype": "text/x-python",
   "name": "python",
   "nbconvert_exporter": "python",
   "pygments_lexer": "ipython3",
   "version": "3.10.4"
  }
 },
 "nbformat": 4,
 "nbformat_minor": 4
}
